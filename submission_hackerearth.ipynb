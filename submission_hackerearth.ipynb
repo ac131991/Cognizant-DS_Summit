{
 "cells": [
  {
   "cell_type": "code",
   "execution_count": 1,
   "metadata": {},
   "outputs": [
    {
     "name": "stderr",
     "output_type": "stream",
     "text": [
      "C:\\Users\\91801\\Anaconda3\\lib\\site-packages\\pandas\\core\\frame.py:4042: SettingWithCopyWarning: \n",
      "A value is trying to be set on a copy of a slice from a DataFrame\n",
      "\n",
      "See the caveats in the documentation: http://pandas.pydata.org/pandas-docs/stable/indexing.html#indexing-view-versus-copy\n",
      "  method=method)\n",
      "C:\\Users\\91801\\Anaconda3\\lib\\site-packages\\pandas\\core\\frame.py:3940: SettingWithCopyWarning: \n",
      "A value is trying to be set on a copy of a slice from a DataFrame\n",
      "\n",
      "See the caveats in the documentation: http://pandas.pydata.org/pandas-docs/stable/indexing.html#indexing-view-versus-copy\n",
      "  errors=errors)\n",
      "C:\\Users\\91801\\Anaconda3\\lib\\site-packages\\pandas\\core\\generic.py:6586: SettingWithCopyWarning: \n",
      "A value is trying to be set on a copy of a slice from a DataFrame\n",
      "\n",
      "See the caveats in the documentation: http://pandas.pydata.org/pandas-docs/stable/indexing.html#indexing-view-versus-copy\n",
      "  self._update_inplace(new_data)\n"
     ]
    },
    {
     "name": "stdout",
     "output_type": "stream",
     "text": [
      "   encounter_id  diabetesMed\n",
      "0      97074168            1\n",
      "1      38255910            1\n",
      "2      36573714            0\n",
      "3      73972230            1\n",
      "4      68202342            0\n"
     ]
    }
   ],
   "source": [
    "'''\n",
    "# Sample code to perform I/O:\n",
    "\n",
    "name = input()                  # Reading input from STDIN\n",
    "print('Hi, %s.' % name)         # Writing output to STDOUT\n",
    "\n",
    "# Warning: Printing unwanted or ill-formatted data to output will cause the test cases to fail\n",
    "'''\n",
    "\n",
    "# Write your code here\n",
    "import pandas as pd\n",
    "import numpy as np\n",
    "from sklearn.preprocessing import StandardScaler\n",
    "from sklearn.preprocessing import LabelEncoder\n",
    "import xgboost as xgb\n",
    "from xgboost import XGBClassifier\n",
    "\n",
    "\n",
    "train=pd.read_csv('train.csv')\n",
    "test=pd.read_csv('test.csv')\n",
    "\n",
    "data_cat=train.select_dtypes(exclude=[np.number])\n",
    "data_num=train.select_dtypes(include=[np.number])\n",
    "\n",
    "sc=StandardScaler()\n",
    "data_num_sc=sc.fit_transform(data_num[[ 'admission_type_id', 'discharge_disposition_id', \n",
    "                          'admission_source_id', 'time_in_hospital', 'tel_3', 'tel_4', 'tel_5', 'tel_6', 'tel_7', 'tel_8', 'tel_12']])\n",
    "data_num_sc_df=pd.DataFrame(data_num_sc,columns=['admission_type_id', 'discharge_disposition_id', 'admission_source_id', \n",
    "                                                 'time_in_hospital', 'tel_3', 'tel_4', 'tel_5', 'tel_6', 'tel_7', 'tel_8', 'tel_12'])\n",
    "\n",
    "data_cat.replace('?',np.nan,inplace=True)\n",
    "data_cat.drop('weight',axis=1,inplace=True)\n",
    "data_cat['tel_2'].replace(np.nan,'InternalMedicine',inplace=True)\n",
    "data_cat['tel_1'].replace(np.nan,'MC',inplace=True)\n",
    "data_cat['race'].replace(np.nan,'Caucasian',inplace=True)\n",
    "data_cat.replace(np.nan,'0',inplace=True)\n",
    "lb_en=LabelEncoder()\n",
    "df_cat=data_cat.apply(lb_en.fit_transform)\n",
    "df_cat_sc=sc.fit_transform(df_cat)\n",
    "data_cat_sc=pd.DataFrame(df_cat_sc,columns=df_cat.columns)\n",
    "df_train=pd.concat([data_num_sc_df,data_cat_sc],axis=1)\n",
    "X=df_train\n",
    "y=train['diabetesMed']\n",
    "\n",
    "xgb_mdl = XGBClassifier(learning_rate = 0.2, max_depth = 4, n_estimators = 100, subsample = 0.9)\n",
    "\n",
    "xgb_mdl.fit(X, y)\n",
    "\n",
    "test.replace('?',np.nan,inplace=True)\n",
    "test.drop('weight',axis=1,inplace=True)\n",
    "\n",
    "test['tel_2'].replace(np.nan,'InternalMedicine',inplace=True)\n",
    "test['tel_1'].replace(np.nan,'MC',inplace=True)\n",
    "test['race'].replace(np.nan,'Caucasian',inplace=True)\n",
    "test.replace(np.nan,'0',inplace=True)\n",
    "cat_cols=test.select_dtypes(exclude=[np.number]).columns\n",
    "num_cols=test.select_dtypes(include=[np.number]).columns\n",
    "\n",
    "test_df_cat=test[cat_cols].apply(lb_en.fit_transform)\n",
    "test_df=pd.concat([test[num_cols],test_df_cat],axis=1)\n",
    "test_df_sc=sc.fit_transform(test_df)\n",
    "test_sc=pd.DataFrame(test_df_sc,columns=test_df.columns)\n",
    "X_test=test_sc.drop(['encounter_id','patient_id'],axis=1)\n",
    "\n",
    "y_pred_final=xgb_mdl.predict(X_test)\n",
    "submission=pd.DataFrame({'encounter_id':test['encounter_id'],'diabetesMed':y_pred_final})\n",
    "print(submission.head())\n",
    "submission.to_csv('submission_anwesh.csv',index=False)\n"
   ]
  },
  {
   "cell_type": "code",
   "execution_count": 2,
   "metadata": {},
   "outputs": [
    {
     "name": "stdout",
     "output_type": "stream",
     "text": [
      "<class 'pandas.core.frame.DataFrame'>\n",
      "RangeIndex: 7970 entries, 0 to 7969\n",
      "Data columns (total 2 columns):\n",
      "encounter_id    7970 non-null int64\n",
      "diabetesMed     7970 non-null int64\n",
      "dtypes: int64(2)\n",
      "memory usage: 124.6 KB\n"
     ]
    }
   ],
   "source": [
    "submission.info()"
   ]
  },
  {
   "cell_type": "code",
   "execution_count": 3,
   "metadata": {},
   "outputs": [
    {
     "data": {
      "text/plain": [
       "(7970, 2)"
      ]
     },
     "execution_count": 3,
     "metadata": {},
     "output_type": "execute_result"
    }
   ],
   "source": [
    "submission.shape"
   ]
  },
  {
   "cell_type": "code",
   "execution_count": 4,
   "metadata": {},
   "outputs": [
    {
     "data": {
      "text/plain": [
       "(7970, 48)"
      ]
     },
     "execution_count": 4,
     "metadata": {},
     "output_type": "execute_result"
    }
   ],
   "source": [
    "test.shape"
   ]
  },
  {
   "cell_type": "code",
   "execution_count": null,
   "metadata": {},
   "outputs": [],
   "source": []
  }
 ],
 "metadata": {
  "kernelspec": {
   "display_name": "Python 3",
   "language": "python",
   "name": "python3"
  },
  "language_info": {
   "codemirror_mode": {
    "name": "ipython",
    "version": 3
   },
   "file_extension": ".py",
   "mimetype": "text/x-python",
   "name": "python",
   "nbconvert_exporter": "python",
   "pygments_lexer": "ipython3",
   "version": "3.7.3"
  }
 },
 "nbformat": 4,
 "nbformat_minor": 2
}
